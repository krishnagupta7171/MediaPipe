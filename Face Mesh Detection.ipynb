{
 "cells": [
  {
   "cell_type": "code",
   "execution_count": 1,
   "id": "5bf3e80a-da89-4e54-a2d0-614a8c5422cd",
   "metadata": {},
   "outputs": [],
   "source": [
    "import cv2\n",
    "import mediapipe as mp\n",
    "\n",
    "# Initialize Face Detection and drawing utilities\n",
    "mp_face_detection = mp.solutions.face_detection\n",
    "mp_drawing = mp.solutions.drawing_utils\n",
    "\n",
    "# Open the webcam\n",
    "cap = cv2.VideoCapture(0)\n",
    "\n",
    "with mp_face_detection.FaceDetection(model_selection=0, min_detection_confidence=0.5) as face_detection:\n",
    "    while cap.isOpened():\n",
    "        ret, frame = cap.read()\n",
    "        if not ret:\n",
    "            break\n",
    "\n",
    "        # Convert BGR to RGB\n",
    "        rgb_frame = cv2.cvtColor(frame, cv2.COLOR_BGR2RGB)\n",
    "\n",
    "        # Process the image\n",
    "        results = face_detection.process(rgb_frame)\n",
    "\n",
    "        # Draw bounding boxes if face(s) detected\n",
    "        if results.detections:\n",
    "            for detection in results.detections:\n",
    "                # Draw the bounding box and keypoints\n",
    "                mp_drawing.draw_detection(frame, detection)\n",
    "\n",
    "                # Show confidence score\n",
    "                score = int(detection.score[0] * 100)\n",
    "                bbox = detection.location_data.relative_bounding_box\n",
    "                h, w, _ = frame.shape\n",
    "                x = int(bbox.xmin * w)\n",
    "                y = int(bbox.ymin * h)\n",
    "                cv2.putText(frame, f'{score}%', (x, y - 10), cv2.FONT_HERSHEY_SIMPLEX,\n",
    "                            1, (0, 255, 0), 2)\n",
    "\n",
    "        # Show the frame\n",
    "        cv2.imshow('Face Detection', frame)\n",
    "\n",
    "        if cv2.waitKey(5) & 0xFF == 27:  # ESC to exit\n",
    "            break\n",
    "\n",
    "cap.release()\n",
    "cv2.destroyAllWindows()\n"
   ]
  },
  {
   "cell_type": "code",
   "execution_count": null,
   "id": "7cfec9e1-d234-4c27-8c29-c8e2a94d3100",
   "metadata": {},
   "outputs": [],
   "source": []
  }
 ],
 "metadata": {
  "kernelspec": {
   "display_name": "Python [conda env:base] *",
   "language": "python",
   "name": "conda-base-py"
  },
  "language_info": {
   "codemirror_mode": {
    "name": "ipython",
    "version": 3
   },
   "file_extension": ".py",
   "mimetype": "text/x-python",
   "name": "python",
   "nbconvert_exporter": "python",
   "pygments_lexer": "ipython3",
   "version": "3.12.3"
  }
 },
 "nbformat": 4,
 "nbformat_minor": 5
}
